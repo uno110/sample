{
  "nbformat": 4,
  "nbformat_minor": 0,
  "metadata": {
    "colab": {
      "name": "yahoo.py",
      "provenance": [],
      "collapsed_sections": [],
      "include_colab_link": true
    },
    "kernelspec": {
      "name": "python3",
      "display_name": "Python 3"
    }
  },
  "cells": [
    {
      "cell_type": "markdown",
      "metadata": {
        "id": "view-in-github",
        "colab_type": "text"
      },
      "source": [
        "<a href=\"https://colab.research.google.com/github/uno110/sample/blob/master/yahoo_py.ipynb\" target=\"_parent\"><img src=\"https://colab.research.google.com/assets/colab-badge.svg\" alt=\"Open In Colab\"/></a>"
      ]
    },
    {
      "cell_type": "code",
      "metadata": {
        "id": "3dq1FhvLo_PN"
      },
      "source": [
        "!pip install gspread\n",
        "!pip install --upgrade google-api-python-client google-auth-httplib2 google-auth-oauthlib\n",
        "\n",
        "#seleniumとchromedriverをインストールしてヘッドレスクロームを準備する\n",
        "!pip install selenium\n",
        "!apt-get update # to update ubuntu to correctly run apt install\n",
        "!apt install chromium-chromedriver\n",
        "!cp /usr/lib/chromium-browser/chromedriver /usr/bin"
      ],
      "execution_count": null,
      "outputs": []
    },
    {
      "cell_type": "code",
      "metadata": {
        "id": "1arsZXYFpJy6",
        "colab": {
          "base_uri": "https://localhost:8080/",
          "height": 372
        },
        "outputId": "19fe64c6-f962-462f-e705-15ce27a8ac2b"
      },
      "source": [
        "import sys\n",
        "import csv\n",
        "from time import sleep\n",
        "sys.path.insert(0,'/usr/lib/chromium-browser/chromedriver')\n",
        "from selenium import webdriver\n",
        "from selenium.webdriver.common.by import By\n",
        "from selenium.webdriver.support.ui import WebDriverWait\n",
        "from selenium.webdriver.support import expected_conditions\n",
        "from selenium.webdriver.common.keys import Keys\n",
        "from selenium.webdriver.common.action_chains import ActionChains\n",
        "from selenium.webdriver.chrome.options import Options\n",
        "from selenium.common.exceptions import TimeoutException\n",
        "from selenium.common.exceptions import NoSuchElementException\n",
        "from selenium.common.exceptions import StaleElementReferenceException\n",
        "options = Options()\n",
        "options.add_argument('--headless')\n",
        "options.add_argument('--no-sandbox')\n",
        "options.add_argument('--disable-dev-shm-usage')\n",
        "options.add_argument('--user-agent=Mozilla/5.0 (Windows NT 6.3; WOW64; Trident/7.0; Touch; .NET4.0E; .NET4.0C; .NET CLR 3.5.30729; .NET CLR 2.0.50727; .NET CLR 3.0.30729; Tablet PC 2.0; rv:11.0) like Gecko')\n",
        "driver = webdriver.Chrome('chromedriver',options=options)\n",
        "\n",
        "try:\n",
        "  result=[]\n",
        "  for i in range(1,39):\n",
        "    url=\"https://soccer.yahoo.co.jp/ws/schedule/52?class={}\".format(i)\n",
        "    driver.get(url)\n",
        "    WebDriverWait(driver, 10).until(expected_conditions.visibility_of_element_located((By.CLASS_NAME, 'sn-table')))\n",
        "    div = driver.find_element(By.CLASS_NAME, 'sn-table')\n",
        "    tr_elems= div.find_elements(By.TAG_NAME, 'tr')\n",
        "    tr_elems.pop(0)\n",
        "    \n",
        "    for tr in tr_elems:\n",
        "      game=[]\n",
        "      game_elems=[]\n",
        "      for td in tr.find_elements(By.TAG_NAME, 'td'):\n",
        "        game.append(td.text)\n",
        "      time=game[0].split(\"\\n\")\n",
        "      status=game[3].split(\"\\n\")\n",
        "      score=status[0].split(\"-\")\n",
        "      game_elems.append(\"{}節\".format(i))\n",
        "      game_elems.append(time[0])\n",
        "      game_elems.append(time[1])\n",
        "      game_elems.append(game[1])\n",
        "      game_elems.append(game[5])\n",
        "      game_elems.append(status[1])\n",
        "      game_elems.append(score[0])\n",
        "      game_elems.append(score[1])\n",
        "      result.append(game_elems)\n",
        "finally:\n",
        "  driver.quit()\n",
        "\n",
        "\n",
        "\n",
        "\n",
        "\n",
        "\n",
        "\n",
        "\n",
        " \n",
        "\n",
        "\n",
        "\n",
        "\n"
      ],
      "execution_count": null,
      "outputs": [
        {
          "output_type": "error",
          "ename": "ModuleNotFoundError",
          "evalue": "ignored",
          "traceback": [
            "\u001b[0;31m---------------------------------------------------------------------------\u001b[0m",
            "\u001b[0;31mModuleNotFoundError\u001b[0m                       Traceback (most recent call last)",
            "\u001b[0;32m<ipython-input-1-7ff855630ff1>\u001b[0m in \u001b[0;36m<module>\u001b[0;34m()\u001b[0m\n\u001b[1;32m      3\u001b[0m \u001b[0;32mfrom\u001b[0m \u001b[0mtime\u001b[0m \u001b[0;32mimport\u001b[0m \u001b[0msleep\u001b[0m\u001b[0;34m\u001b[0m\u001b[0;34m\u001b[0m\u001b[0m\n\u001b[1;32m      4\u001b[0m \u001b[0msys\u001b[0m\u001b[0;34m.\u001b[0m\u001b[0mpath\u001b[0m\u001b[0;34m.\u001b[0m\u001b[0minsert\u001b[0m\u001b[0;34m(\u001b[0m\u001b[0;36m0\u001b[0m\u001b[0;34m,\u001b[0m\u001b[0;34m'/usr/lib/chromium-browser/chromedriver'\u001b[0m\u001b[0;34m)\u001b[0m\u001b[0;34m\u001b[0m\u001b[0;34m\u001b[0m\u001b[0m\n\u001b[0;32m----> 5\u001b[0;31m \u001b[0;32mfrom\u001b[0m \u001b[0mselenium\u001b[0m \u001b[0;32mimport\u001b[0m \u001b[0mwebdriver\u001b[0m\u001b[0;34m\u001b[0m\u001b[0;34m\u001b[0m\u001b[0m\n\u001b[0m\u001b[1;32m      6\u001b[0m \u001b[0;32mfrom\u001b[0m \u001b[0mselenium\u001b[0m\u001b[0;34m.\u001b[0m\u001b[0mwebdriver\u001b[0m\u001b[0;34m.\u001b[0m\u001b[0mcommon\u001b[0m\u001b[0;34m.\u001b[0m\u001b[0mby\u001b[0m \u001b[0;32mimport\u001b[0m \u001b[0mBy\u001b[0m\u001b[0;34m\u001b[0m\u001b[0;34m\u001b[0m\u001b[0m\n\u001b[1;32m      7\u001b[0m \u001b[0;32mfrom\u001b[0m \u001b[0mselenium\u001b[0m\u001b[0;34m.\u001b[0m\u001b[0mwebdriver\u001b[0m\u001b[0;34m.\u001b[0m\u001b[0msupport\u001b[0m\u001b[0;34m.\u001b[0m\u001b[0mui\u001b[0m \u001b[0;32mimport\u001b[0m \u001b[0mWebDriverWait\u001b[0m\u001b[0;34m\u001b[0m\u001b[0;34m\u001b[0m\u001b[0m\n",
            "\u001b[0;31mModuleNotFoundError\u001b[0m: No module named 'selenium'",
            "",
            "\u001b[0;31m---------------------------------------------------------------------------\u001b[0;32m\nNOTE: If your import is failing due to a missing package, you can\nmanually install dependencies using either !pip or !apt.\n\nTo view examples of installing some common dependencies, click the\n\"Open Examples\" button below.\n\u001b[0;31m---------------------------------------------------------------------------\u001b[0m\n"
          ],
          "errorDetails": {
            "actions": [
              {
                "action": "open_url",
                "actionText": "Open Examples",
                "url": "/notebooks/snippets/importing_libraries.ipynb"
              }
            ]
          }
        }
      ]
    },
    {
      "cell_type": "code",
      "metadata": {
        "id": "k4zo-4jOER3o"
      },
      "source": [
        "import csv\n",
        "header=['節数', '試合日', '開始時刻', 'ホームチーム', 'アウェイチーム', '試合状況', 'ホームチームスコア', 'アウェイチームスコア']\n",
        "with open('result.csv', 'w')as f:\n",
        "  writer = csv.writer(f)  # writerオブジェクトを作成\n",
        "  writer.writerow(header)\n",
        "  writer.writerows(result) "
      ],
      "execution_count": null,
      "outputs": []
    },
    {
      "cell_type": "code",
      "metadata": {
        "id": "ERrSXoqKEb1m"
      },
      "source": [
        "import openpyxl\n",
        "wb = openpyxl.Workbook()\n",
        "ws = wb.worksheets[0]\n",
        "file_name = \"結果.xlsx\"\n",
        "header=['節数', '試合日', '開始時刻', 'ホームチーム', 'アウェイチーム', '試合状況', 'ホームチームスコア', 'アウェイチームスコア']\n",
        "ws = wb.active\n",
        "def write_data(sheet, list, start_row, start_col):\n",
        "  for y, row in enumerate(data):\n",
        "    for x, cell in enumerate(row):\n",
        "      sheet.cell(row=y+start_row,\n",
        "                column=x+start_col,\n",
        "                value=data[y][x])\n",
        "data=[]\n",
        "data.append(header) \n",
        "data.extend(result)\n",
        "write_data(ws, data,1,1)\n",
        "#名前を付けて保存\n",
        "wb.save('結果.xlsx')"
      ],
      "execution_count": null,
      "outputs": []
    },
    {
      "cell_type": "code",
      "metadata": {
        "id": "NRqPdc-OpNgA"
      },
      "source": [
        "!pip install gspread\n",
        "!pip install oauth2client"
      ],
      "execution_count": null,
      "outputs": []
    },
    {
      "cell_type": "code",
      "metadata": {
        "colab": {
          "base_uri": "https://localhost:8080/"
        },
        "id": "MeiHujFRpbOa",
        "outputId": "c5d29234-c0c5-43ce-827d-71d060d78db1"
      },
      "source": [
        "import gspread\n",
        "from oauth2client.service_account import ServiceAccountCredentials \n",
        "from google.colab import drive\n",
        "drive.mount('/content/drive')\n",
        "\n",
        "scope=['https://spreadsheets.google.com/feeds','https://www.googleapis.com/auth/drive']\n",
        "c = ServiceAccountCredentials.from_json_keyfile_name('drive/My Drive/my-project-test-306406-cd1d807083f0.json', scope)\n",
        "\n",
        "gc = gspread.authorize(c)\n",
        "workbook=gc.open_by_key('1daijg_647OO9hjY_Pvzrt1AGquqDeo_7sVyg-qrordw')\n",
        "worksheet = workbook.add_worksheet(title=\"\", rows=381,  cols=8)\n"
      ],
      "execution_count": null,
      "outputs": [
        {
          "output_type": "stream",
          "text": [
            "Drive already mounted at /content/drive; to attempt to forcibly remount, call drive.mount(\"/content/drive\", force_remount=True).\n"
          ],
          "name": "stdout"
        }
      ]
    },
    {
      "cell_type": "code",
      "metadata": {
        "colab": {
          "base_uri": "https://localhost:8080/"
        },
        "id": "Mux5Nf052vBV",
        "outputId": "bd44a88a-16fa-4a0b-9f1c-329afa536bcb"
      },
      "source": [
        "header=['節数', '試合日', '開始時刻', 'ホームチーム', 'アウェイチーム', '試合状況', 'ホームチームスコア', 'アウェイチームスコア']\n",
        "data=[]\n",
        "data.append(header) \n",
        "data.extend(result)\n",
        "new_data=sum(data,[])\n",
        "\n",
        "cell_list=worksheet.range('A1:H379')\n",
        "for i , cell in enumerate(cell_list):\n",
        "  cell.value=new_data[i]\n",
        "worksheet.update_cells(cell_list)"
      ],
      "execution_count": null,
      "outputs": [
        {
          "output_type": "execute_result",
          "data": {
            "text/plain": [
              "{'spreadsheetId': '1daijg_647OO9hjY_Pvzrt1AGquqDeo_7sVyg-qrordw',\n",
              " 'updatedCells': 3032,\n",
              " 'updatedColumns': 8,\n",
              " 'updatedRange': \"'シート29'!A1:H379\",\n",
              " 'updatedRows': 379}"
            ]
          },
          "metadata": {
            "tags": []
          },
          "execution_count": 52
        }
      ]
    }
  ]
}